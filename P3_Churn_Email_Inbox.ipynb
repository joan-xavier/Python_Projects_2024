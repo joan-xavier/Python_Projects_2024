{
 "cells": [
  {
   "cell_type": "markdown",
   "metadata": {},
   "source": [
    "# Project : Churn emails Inbox\n",
    "Problem Statement: We have a text file (mbox-short.txt) which records mail activity from various individuals in an open source project development team .\n",
    "Load the dataset, explore the content and header in the email given from the dataset (mbox-short.txt)\n",
    "\n"
   ]
  },
  {
   "cell_type": "code",
   "execution_count": 1,
   "metadata": {},
   "outputs": [],
   "source": [
    "# step1: Explore the content\n",
    "# Define a function number_of_lines\n",
    "\n",
    "def number_of_lines(file_path):\n",
    "    # Returns the total number of lines in the file\n",
    "    with open(file_path, 'r') as file:\n",
    "        return len(file.readlines())\n"
   ]
  },
  {
   "cell_type": "code",
   "execution_count": 2,
   "metadata": {},
   "outputs": [],
   "source": [
    "# step 2: Write a function count_number_of_lines which returns the count\n",
    "# of the number of lines starting with Subject: in the file mbox-short.txt\n",
    "\n",
    "def count_number_of_lines(file_path):\n",
    "    # Returns the count of lines starting with 'Subject:'\n",
    "    count = 0\n",
    "    with open(file_path, 'r') as file:\n",
    "        for line in file:\n",
    "            if line.startswith('Subject:'):\n",
    "                count += 1\n",
    "    return count\n",
    "\n"
   ]
  },
  {
   "cell_type": "code",
   "execution_count": 3,
   "metadata": {},
   "outputs": [],
   "source": [
    "# step 3: Define a function average_spam_confidence which calculates the average spam confidence and returns it\n",
    "def average_spam_confidence(file_path):\n",
    "    # Calculates and returns the average spam confidence\n",
    "    total_confidence = 0\n",
    "    count = 0\n",
    "    with open(file_path, 'r') as file:\n",
    "        for line in file:\n",
    "            if line.startswith('X-DSPAM-Confidence:'):\n",
    "                try:\n",
    "                    confidence_value = float(line.split(':')[1].strip())\n",
    "                    total_confidence += confidence_value\n",
    "                    count += 1\n",
    "                except ValueError:\n",
    "                    continue\n",
    "    return total_confidence / count if count > 0 else 0\n",
    "\n"
   ]
  },
  {
   "cell_type": "code",
   "execution_count": 4,
   "metadata": {},
   "outputs": [],
   "source": [
    "\n",
    "#  step 4: Write a function find_email_sent_days which reads the file 'mbox-short.txt' and \n",
    "# categorizes each mail message by which day of the week the email was sent.\n",
    "\n",
    "def find_email_sent_days(file_path):\n",
    "    # Returns a dictionary counting the number of emails sent each day of the week\n",
    "    days_count = {}\n",
    "    with open(file_path, 'r') as file:\n",
    "        for line in file:\n",
    "            if line.startswith('From '):\n",
    "                words = line.split()\n",
    "                if len(words) > 2:\n",
    "                    day = words[2]\n",
    "                    days_count[day] = days_count.get(day, 0) + 1\n",
    "    return days_count\n",
    "\n"
   ]
  },
  {
   "cell_type": "code",
   "execution_count": 5,
   "metadata": {},
   "outputs": [],
   "source": [
    "\n",
    "# step 5: Write a function count_message_from_email which reads the file mbox-short.txt.\n",
    "# This function builds a histogram using a dictionary to count how many messages have come\n",
    "# from each email address and returns the dictionary.\n",
    "\n",
    "def count_message_from_email(file_path):\n",
    "    # Returns a dictionary counting the number of messages from each email address\n",
    "    email_count = {}\n",
    "    with open(file_path, 'r') as file:\n",
    "        for line in file:\n",
    "            if line.startswith('From '):\n",
    "                words = line.split()\n",
    "                if len(words) > 1:\n",
    "                    email = words[1]\n",
    "                    email_count[email] = email_count.get(email, 0) + 1\n",
    "    return email_count\n",
    "\n"
   ]
  },
  {
   "cell_type": "code",
   "execution_count": 6,
   "metadata": {},
   "outputs": [],
   "source": [
    "# step 6: Write a function count_message_from_domain which reads the file mbox-short.txt.\n",
    "# This function builds a histogram using a dictionary to count how many messages have come from each domain\n",
    "# (Instead of from email address), and returns the dictionary.\n",
    "\n",
    "def count_message_from_domain(file_path):\n",
    "    # Returns a dictionary counting the number of messages from each domain\n",
    "    domain_count = {}\n",
    "    with open(file_path, 'r') as file:\n",
    "        for line in file:\n",
    "            if line.startswith('From '):\n",
    "                words = line.split()\n",
    "                if len(words) > 1:\n",
    "                    email = words[1]\n",
    "                    domain = email.split('@')[-1]\n",
    "                    domain_count[domain] = domain_count.get(domain, 0) + 1\n",
    "    return domain_count\n",
    "\n"
   ]
  },
  {
   "cell_type": "code",
   "execution_count": 7,
   "metadata": {},
   "outputs": [
    {
     "name": "stdout",
     "output_type": "stream",
     "text": [
      "Total lines: 1910\n",
      "Subject lines count: 27\n",
      "Average spam confidence: 0.7507185185185187\n",
      "Emails sent per day: {'Sat': 1, 'Fri': 20, 'Thu': 6}\n",
      "Messages from each email: {'stephen.marquard@uct.ac.za': 2, 'louis@media.berkeley.edu': 3, 'zqian@umich.edu': 4, 'rjlowe@iupui.edu': 2, 'cwen@iupui.edu': 5, 'gsilver@umich.edu': 3, 'wagnermr@iupui.edu': 1, 'antranig@caret.cam.ac.uk': 1, 'gopal.ramasammycook@gmail.com': 1, 'david.horwitz@uct.ac.za': 4, 'ray@media.berkeley.edu': 1}\n",
      "Messages from each domain: {'uct.ac.za': 6, 'media.berkeley.edu': 4, 'umich.edu': 7, 'iupui.edu': 8, 'caret.cam.ac.uk': 1, 'gmail.com': 1}\n"
     ]
    }
   ],
   "source": [
    "\n",
    "# Sample usage\n",
    "file_path = 'mbox-short.txt'\n",
    "print(\"Total lines:\", number_of_lines(file_path))\n",
    "print(\"Subject lines count:\", count_number_of_lines(file_path))\n",
    "print(\"Average spam confidence:\", average_spam_confidence(file_path))\n",
    "print(\"Emails sent per day:\", find_email_sent_days(file_path))\n",
    "print(\"Messages from each email:\", count_message_from_email(file_path))\n",
    "print(\"Messages from each domain:\", count_message_from_domain(file_path))\n"
   ]
  }
 ],
 "metadata": {
  "kernelspec": {
   "display_name": "env1",
   "language": "python",
   "name": "python3"
  },
  "language_info": {
   "codemirror_mode": {
    "name": "ipython",
    "version": 3
   },
   "file_extension": ".py",
   "mimetype": "text/x-python",
   "name": "python",
   "nbconvert_exporter": "python",
   "pygments_lexer": "ipython3",
   "version": "3.11.11"
  }
 },
 "nbformat": 4,
 "nbformat_minor": 2
}

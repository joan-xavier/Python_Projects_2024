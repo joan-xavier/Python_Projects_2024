{
 "cells": [
  {
   "cell_type": "markdown",
   "id": "3510b6d6",
   "metadata": {},
   "source": [
    "# Project: Personal Expense Tracker\n",
    "\n",
    "## Problem statement:\n",
    "In today’s fast-paced world, individuals need to track and manage their expenses effectively. Your task is to build a personal expense tracker that allows users to log daily expenses, categorize them, and track spending against a monthly budget. The tracker should also be able to save and load expenses from a file for future reference.\n",
    "Objectives:\n",
    "1. Design and implement a personal expense tracker that enables users to manage their expenses\n",
    "2. Allow users to categorize expenses and set monthly budgets\n",
    "3. Implement file-handling functionality to save and load expense data\n",
    "4. Create an interactive, menu-driven interface for ease of use"
   ]
  },
  {
   "cell_type": "code",
   "execution_count": 3,
   "id": "90e6ddab",
   "metadata": {},
   "outputs": [],
   "source": [
    "import csv\n",
    "from datetime import datetime"
   ]
  },
  {
   "cell_type": "code",
   "execution_count": 4,
   "id": "bb170835",
   "metadata": {},
   "outputs": [],
   "source": [
    "\n",
    "# Global variables\n",
    "expenses = []\n",
    "monthly_budget = 0\n",
    "csv_file = \"expenses.csv\"\n"
   ]
  },
  {
   "cell_type": "code",
   "execution_count": 5,
   "id": "f587b7ee",
   "metadata": {},
   "outputs": [],
   "source": [
    "\n",
    "def add_expense():\n",
    "    date = input(\"Enter the date of the expense (YYYY-MM-DD): \")\n",
    "    category = input(\"Enter the category of the expense: \")\n",
    "    amount = float(input(\"Enter the amount spent: \"))\n",
    "    description = input(\"Enter a brief description of the expense: \")\n",
    "\n",
    "    expense = {\n",
    "        'date': date,\n",
    "        'category': category,\n",
    "        'amount': amount,\n",
    "        'description': description\n",
    "    }\n",
    "    expenses.append(expense)\n",
    "    print(\"Expense added successfully!\")\n"
   ]
  },
  {
   "cell_type": "code",
   "execution_count": 6,
   "id": "9e55efd0",
   "metadata": {},
   "outputs": [],
   "source": [
    "\n",
    "def view_expenses():\n",
    "    if not expenses:\n",
    "        print(\"No expenses recorded yet.\")\n",
    "        return\n",
    "\n",
    "    for expense in expenses:\n",
    "        if all(key in expense for key in ['date', 'category', 'amount', 'description']):\n",
    "            print(f\"Date: {expense['date']}, Category: {expense['category']}, \"\n",
    "                  f\"Amount: ${expense['amount']:.2f}, Description: {expense['description']}\")\n",
    "        else:\n",
    "            print(\"Incomplete expense entry found. Skipping...\")\n"
   ]
  },
  {
   "cell_type": "code",
   "execution_count": 7,
   "id": "2e366f3a",
   "metadata": {},
   "outputs": [],
   "source": [
    "\n",
    "def set_budget():\n",
    "    global monthly_budget\n",
    "    monthly_budget = float(input(\"Enter your monthly budget: $\"))\n",
    "    print(f\"Monthly budget set to ${monthly_budget:.2f}\")\n"
   ]
  },
  {
   "cell_type": "code",
   "execution_count": 8,
   "id": "fe424524",
   "metadata": {},
   "outputs": [],
   "source": [
    "\n",
    "def track_budget():\n",
    "    if monthly_budget == 0:\n",
    "        print(\"Please set a monthly budget first.\")\n",
    "        return\n",
    "\n",
    "    total_expenses = sum(expense['amount'] for expense in expenses)\n",
    "    remaining = monthly_budget - total_expenses\n",
    "\n",
    "    if remaining < 0:\n",
    "        print(f\"Warning: You have exceeded your budget by ${abs(remaining):.2f}!\")\n",
    "    else:\n",
    "        print(f\"You have ${remaining:.2f} left for the month.\")\n"
   ]
  },
  {
   "cell_type": "code",
   "execution_count": 9,
   "id": "c0edf4f8",
   "metadata": {},
   "outputs": [],
   "source": [
    "\n",
    "def save_expenses():\n",
    "    with open(csv_file, 'w', newline='') as file:\n",
    "        writer = csv.DictWriter(file, fieldnames=['date', 'category', 'amount', 'description'])\n",
    "        writer.writeheader()\n",
    "        writer.writerows(expenses)\n",
    "    print(\"Expenses saved to file.\")\n"
   ]
  },
  {
   "cell_type": "code",
   "execution_count": 10,
   "id": "e845ff1e",
   "metadata": {},
   "outputs": [],
   "source": [
    "\n",
    "def load_expenses():\n",
    "    global expenses\n",
    "    try:\n",
    "        with open(csv_file, 'r') as file:\n",
    "            reader = csv.DictReader(file)\n",
    "            expenses = [{k: v if k != 'amount' else float(v) for k, v in row.items()} for row in reader]\n",
    "        print(\"Expenses loaded from file.\")\n",
    "    except FileNotFoundError:\n",
    "        print(\"No previous expense file found. Starting fresh.\")\n"
   ]
  },
  {
   "cell_type": "code",
   "execution_count": 11,
   "id": "590b2ea8",
   "metadata": {},
   "outputs": [],
   "source": [
    "\n",
    "def display_menu():\n",
    "    print(\"\\n--- Expense Tracker Menu ---\")\n",
    "    print(\"1. Add expense\")\n",
    "    print(\"2. View expenses\")\n",
    "    print(\"3. Track budget\")\n",
    "    print(\"4. Save expenses\")\n",
    "    print(\"5. Exit\")\n",
    "    return input(\"Enter your choice (1-5): \")\n"
   ]
  },
  {
   "cell_type": "code",
   "execution_count": 12,
   "id": "84b31e18",
   "metadata": {},
   "outputs": [],
   "source": [
    "\n",
    "def main():\n",
    "    load_expenses()\n",
    "    while True:\n",
    "        choice = display_menu()\n",
    "        if choice == '1':\n",
    "            add_expense()\n",
    "        elif choice == '2':\n",
    "            view_expenses()\n",
    "        elif choice == '3':\n",
    "            if monthly_budget == 0:\n",
    "                set_budget()\n",
    "            track_budget()\n",
    "        elif choice == '4':\n",
    "            save_expenses()\n",
    "        elif choice == '5':\n",
    "            save_expenses()\n",
    "            print(\"Expenses saved. Exiting program.\")\n",
    "            break\n",
    "        else:\n",
    "            print(\"Invalid choice. Please try again.\")\n"
   ]
  },
  {
   "cell_type": "code",
   "execution_count": 13,
   "id": "e20d1d14",
   "metadata": {},
   "outputs": [
    {
     "name": "stdout",
     "output_type": "stream",
     "text": [
      "Expenses loaded from file.\n",
      "\n",
      "--- Expense Tracker Menu ---\n",
      "1. Add expense\n",
      "2. View expenses\n",
      "3. Track budget\n",
      "4. Save expenses\n",
      "5. Exit\n",
      "Expense added successfully!\n",
      "\n",
      "--- Expense Tracker Menu ---\n",
      "1. Add expense\n",
      "2. View expenses\n",
      "3. Track budget\n",
      "4. Save expenses\n",
      "5. Exit\n",
      "Expense added successfully!\n",
      "\n",
      "--- Expense Tracker Menu ---\n",
      "1. Add expense\n",
      "2. View expenses\n",
      "3. Track budget\n",
      "4. Save expenses\n",
      "5. Exit\n",
      "Expense added successfully!\n",
      "\n",
      "--- Expense Tracker Menu ---\n",
      "1. Add expense\n",
      "2. View expenses\n",
      "3. Track budget\n",
      "4. Save expenses\n",
      "5. Exit\n",
      "Expense added successfully!\n",
      "\n",
      "--- Expense Tracker Menu ---\n",
      "1. Add expense\n",
      "2. View expenses\n",
      "3. Track budget\n",
      "4. Save expenses\n",
      "5. Exit\n",
      "Date: 6+44++, Category: nbkjbjn, Amount: $4545.00, Description: nbkbkjb\n",
      "Date: 546464, Category: jbjnbl, Amount: $5654.00, Description: bjkbkkbn\n",
      "Date: 2024-01-15, Category: Food, Amount: $1647.00, Description: McDonald\n",
      "Date: 2024-02-19, Category: Travel, Amount: $7684.00, Description: Chicago\n",
      "Date: 2024-03-09, Category: Entertainment, Amount: $314.00, Description: Movie\n",
      "Date: 2024-04-12, Category: Hospital, Amount: $5017.00, Description: Covid\n",
      "\n",
      "--- Expense Tracker Menu ---\n",
      "1. Add expense\n",
      "2. View expenses\n",
      "3. Track budget\n",
      "4. Save expenses\n",
      "5. Exit\n",
      "Monthly budget set to $4.00\n",
      "Warning: You have exceeded your budget by $24857.00!\n",
      "\n",
      "--- Expense Tracker Menu ---\n",
      "1. Add expense\n",
      "2. View expenses\n",
      "3. Track budget\n",
      "4. Save expenses\n",
      "5. Exit\n",
      "Expenses saved to file.\n",
      "Expenses saved. Exiting program.\n"
     ]
    }
   ],
   "source": [
    "\n",
    "if __name__ == \"__main__\":\n",
    "    main()"
   ]
  },
  {
   "cell_type": "markdown",
   "id": "ab4a73c0",
   "metadata": {},
   "source": []
  },
  {
   "cell_type": "code",
   "execution_count": null,
   "id": "c2b52585",
   "metadata": {},
   "outputs": [],
   "source": []
  }
 ],
 "metadata": {
  "kernelspec": {
   "display_name": "env1",
   "language": "python",
   "name": "python3"
  },
  "language_info": {
   "codemirror_mode": {
    "name": "ipython",
    "version": 3
   },
   "file_extension": ".py",
   "mimetype": "text/x-python",
   "name": "python",
   "nbconvert_exporter": "python",
   "pygments_lexer": "ipython3",
   "version": "3.11.11"
  }
 },
 "nbformat": 4,
 "nbformat_minor": 5
}
